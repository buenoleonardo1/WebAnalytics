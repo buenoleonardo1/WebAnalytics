{
  "nbformat": 4,
  "nbformat_minor": 0,
  "metadata": {
    "colab": {
      "provenance": [],
      "authorship_tag": "ABX9TyOZEl9NXhkWrRf5i+Ri0iZ2",
      "include_colab_link": true
    },
    "kernelspec": {
      "name": "python3",
      "display_name": "Python 3"
    },
    "language_info": {
      "name": "python"
    }
  },
  "cells": [
    {
      "cell_type": "markdown",
      "metadata": {
        "id": "view-in-github",
        "colab_type": "text"
      },
      "source": [
        "<a href=\"https://colab.research.google.com/github/buenoleonardo1/WebAnalytics/blob/main/API_%7C_web_scraping_%7C_quotesToScrape.ipynb\" target=\"_parent\"><img src=\"https://colab.research.google.com/assets/colab-badge.svg\" alt=\"Open In Colab\"/></a>"
      ]
    },
    {
      "cell_type": "markdown",
      "source": [
        "Importar as bibliotecas necessárias:\n",
        "Vamos começar importando as bibliotecas que serão usadas para fazer o web scraping e criar o DataFrame."
      ],
      "metadata": {
        "id": "C0uwJ5Sy-5Kj"
      }
    },
    {
      "cell_type": "code",
      "source": [
        "import requests\n",
        "from bs4 import BeautifulSoup\n",
        "import pandas as pd"
      ],
      "metadata": {
        "id": "y6AVkOmo-6j6"
      },
      "execution_count": 8,
      "outputs": []
    },
    {
      "cell_type": "markdown",
      "source": [
        "Realizar web scraping:\n",
        "Vamos fazer uma solicitação HTTP para a página e extrair informações, como citações e autores, do site."
      ],
      "metadata": {
        "id": "IFiJCQHB--nt"
      }
    },
    {
      "cell_type": "code",
      "source": [
        "# URL da página para web scraping\n",
        "url = 'http://quotes.toscrape.com'\n",
        "\n",
        "# Enviar uma solicitação HTTP para a página\n",
        "response = requests.get(url)\n",
        "\n",
        "# Verificar se a solicitação foi bem-sucedida\n",
        "if response.status_code == 200:\n",
        "    soup = BeautifulSoup(response.text, 'html.parser')\n",
        "\n",
        "    # Inicializar listas para armazenar as informações\n",
        "    quotes = []\n",
        "    authors = []\n",
        "    tags = []\n",
        "\n",
        "    # Extrair as informações desejadas da página\n",
        "    quote_elements = soup.find_all('span', class_='text')\n",
        "    author_elements = soup.find_all('small', class_='author')\n",
        "    tag_elements = soup.find_all('div', class_='tags')\n",
        "\n",
        "    for quote_element, author_element, tag_element in zip(quote_elements, author_elements, tag_elements):\n",
        "        quote = quote_element.text.strip()  # Extrai o texto da citação e remove espaços em branco\n",
        "        author = author_element.text.strip()  # Extrai o texto do autor e remove espaços em branco\n",
        "        tag_elements = tag_element.find_all('a', class_='tag')\n",
        "        tags_list = [tag.text for tag in tag_elements]  # Extrai o texto de cada tag\n",
        "\n",
        "        quotes.append(quote)\n",
        "        authors.append(author)\n",
        "        tags.append(tags_list)\n",
        "else:\n",
        "    print('Falha ao acessar a página para web scraping')\n",
        "\n",
        "\n"
      ],
      "metadata": {
        "id": "hbMB3443_AMF"
      },
      "execution_count": 11,
      "outputs": []
    },
    {
      "cell_type": "markdown",
      "source": [
        "Criar um DataFrame:\n",
        "Agora que você extraiu as informações, pode criar um DataFrame para armazená-las e manipulá-las conforme necessário."
      ],
      "metadata": {
        "id": "V3EhgRHd_KWb"
      }
    },
    {
      "cell_type": "code",
      "source": [
        "# Criar um DataFrame com as informações extraídas\n",
        "df = pd.DataFrame({'Quote': quotes, 'Author': authors, 'Tags': tags})\n",
        "\n",
        "# Imprimir as primeiras linhas do DataFrame\n",
        "print(df.head())\n",
        "\n"
      ],
      "metadata": {
        "colab": {
          "base_uri": "https://localhost:8080/"
        },
        "id": "Y4TKlnqs_KgY",
        "outputId": "53c28f21-a13e-4e8e-af6b-41a202c9f8e6"
      },
      "execution_count": 12,
      "outputs": [
        {
          "output_type": "stream",
          "name": "stdout",
          "text": [
            "                                               Quote           Author  \\\n",
            "0  “The world as we have created it is a process ...  Albert Einstein   \n",
            "1  “It is our choices, Harry, that show what we t...     J.K. Rowling   \n",
            "2  “There are only two ways to live your life. On...  Albert Einstein   \n",
            "3  “The person, be it gentleman or lady, who has ...      Jane Austen   \n",
            "4  “Imperfection is beauty, madness is genius and...   Marilyn Monroe   \n",
            "\n",
            "                                             Tags  \n",
            "0        [change, deep-thoughts, thinking, world]  \n",
            "1                            [abilities, choices]  \n",
            "2  [inspirational, life, live, miracle, miracles]  \n",
            "3              [aliteracy, books, classic, humor]  \n",
            "4                    [be-yourself, inspirational]  \n"
          ]
        }
      ]
    }
  ]
}